{
  "nbformat": 4,
  "nbformat_minor": 0,
  "metadata": {
    "colab": {
      "name": "TSF_intern_TASK1.ipynb",
      "provenance": [],
      "collapsed_sections": []
    },
    "kernelspec": {
      "name": "python3",
      "display_name": "Python 3"
    }
  },
  "cells": [
    {
      "cell_type": "markdown",
      "metadata": {
        "id": "PcsPbnr11SCb"
      },
      "source": [
        "ANMOL\r\n",
        "***anubehl2000@icloud.com***\r\n",
        "\r\n",
        "# Amity University,Noida\r\n",
        "# **Intern at TSF**\r\n",
        "# **TASK-1 DATA SCIENCE AND BUSSINESS ANALYTICS**\r\n",
        "Supervised Learning"
      ]
    },
    {
      "cell_type": "code",
      "metadata": {
        "id": "cNbclYBqvDrR"
      },
      "source": [
        "#importing all the neccessary libraries under Python\r\n",
        "import pandas as pd\r\n",
        "import numpy as np  \r\n",
        "import matplotlib.pyplot as plt  \r\n",
        "%matplotlib inline\r\n",
        "from sklearn.linear_model import LinearRegression"
      ],
      "execution_count": null,
      "outputs": []
    },
    {
      "cell_type": "code",
      "metadata": {
        "colab": {
          "base_uri": "https://localhost:8080/",
          "height": 229
        },
        "id": "0IpKle4Fvsg4",
        "outputId": "a73ac90c-b89c-4aa2-d8e1-3f133e912a1f"
      },
      "source": [
        "#reading the data from a Csv file uploaded here on Google Colab\r\n",
        "print(\"Reading Csv file and Importing Data....\")\r\n",
        "df = pd.read_csv(\"/content/StudyHours.csv\")\r\n",
        "print(\"Data imported and displaying first 5 records: \")\r\n",
        "df.head()"
      ],
      "execution_count": null,
      "outputs": [
        {
          "output_type": "stream",
          "text": [
            "Reading Csv file and Importing Data....\n",
            "Data imported and displaying first 5 records: \n"
          ],
          "name": "stdout"
        },
        {
          "output_type": "execute_result",
          "data": {
            "text/html": [
              "<div>\n",
              "<style scoped>\n",
              "    .dataframe tbody tr th:only-of-type {\n",
              "        vertical-align: middle;\n",
              "    }\n",
              "\n",
              "    .dataframe tbody tr th {\n",
              "        vertical-align: top;\n",
              "    }\n",
              "\n",
              "    .dataframe thead th {\n",
              "        text-align: right;\n",
              "    }\n",
              "</style>\n",
              "<table border=\"1\" class=\"dataframe\">\n",
              "  <thead>\n",
              "    <tr style=\"text-align: right;\">\n",
              "      <th></th>\n",
              "      <th>Hours</th>\n",
              "      <th>Scores</th>\n",
              "    </tr>\n",
              "  </thead>\n",
              "  <tbody>\n",
              "    <tr>\n",
              "      <th>0</th>\n",
              "      <td>2.5</td>\n",
              "      <td>21</td>\n",
              "    </tr>\n",
              "    <tr>\n",
              "      <th>1</th>\n",
              "      <td>5.1</td>\n",
              "      <td>47</td>\n",
              "    </tr>\n",
              "    <tr>\n",
              "      <th>2</th>\n",
              "      <td>3.2</td>\n",
              "      <td>27</td>\n",
              "    </tr>\n",
              "    <tr>\n",
              "      <th>3</th>\n",
              "      <td>8.5</td>\n",
              "      <td>75</td>\n",
              "    </tr>\n",
              "    <tr>\n",
              "      <th>4</th>\n",
              "      <td>3.5</td>\n",
              "      <td>30</td>\n",
              "    </tr>\n",
              "  </tbody>\n",
              "</table>\n",
              "</div>"
            ],
            "text/plain": [
              "   Hours  Scores\n",
              "0    2.5      21\n",
              "1    5.1      47\n",
              "2    3.2      27\n",
              "3    8.5      75\n",
              "4    3.5      30"
            ]
          },
          "metadata": {
            "tags": []
          },
          "execution_count": 2
        }
      ]
    },
    {
      "cell_type": "code",
      "metadata": {
        "colab": {
          "base_uri": "https://localhost:8080/",
          "height": 295
        },
        "id": "nTUnWpCsxkol",
        "outputId": "1174a6f4-9c1d-4ac9-a226-8a79cfaff096"
      },
      "source": [
        "#Plotting our data using Matlab library to visually assess\r\n",
        "df.plot(x='Hours', y='Scores', style='*')  \r\n",
        "plt.title('Hours vs Score')  \r\n",
        "plt.xlabel('No. of Hours Studied')  \r\n",
        "plt.ylabel('Score Percentage')  \r\n",
        "plt.show()"
      ],
      "execution_count": null,
      "outputs": [
        {
          "output_type": "display_data",
          "data": {
            "image/png": "[encoded data removed]",
            "text/plain": [
              "<Figure size 432x288 with 1 Axes>"
            ]
          },
          "metadata": {
            "tags": [],
            "needs_background": "light"
          }
        }
      ]
    },
    {
      "cell_type": "code",
      "metadata": {
        "id": "tixTHAzfy2B5"
      },
      "source": [
        "#input and output sets\r\n",
        "X = df.iloc[:, :-1].values  \r\n",
        "Y = df.iloc[:, 1].values\r\n",
        "\r\n",
        "#Dividing the dataset into Training set and test set\r\n",
        "from sklearn.model_selection import train_test_split \r\n",
        "X_train, X_test, Y_train, Y_test = train_test_split(X, Y, test_size=0.25, random_state=0) "
      ],
      "execution_count": null,
      "outputs": []
    },
    {
      "cell_type": "code",
      "metadata": {
        "colab": {
          "base_uri": "https://localhost:8080/"
        },
        "id": "Tw2Ir11uz6wa",
        "outputId": "7448d9d2-6564-443f-dd20-67cedadce5ed"
      },
      "source": [
        "#Training\r\n",
        "print(\"Training....\")\r\n",
        "regressor=LinearRegression()\r\n",
        "\r\n",
        "#Fitting the data\r\n",
        "regressor.fit(X_train,Y_train)\r\n",
        "print(\"Training and fitting complete....\")\r\n"
      ],
      "execution_count": null,
      "outputs": [
        {
          "output_type": "stream",
          "text": [
            "Training....\n",
            "Training and fitting complete....\n"
          ],
          "name": "stdout"
        }
      ]
    },
    {
      "cell_type": "code",
      "metadata": {
        "colab": {
          "base_uri": "https://localhost:8080/",
          "height": 295
        },
        "id": "B9f3I5US1mTZ",
        "outputId": "1078470c-dbef-4d4b-a5d3-73798c0ad834"
      },
      "source": [
        "#plotting the regression line\r\n",
        "m=regressor.coef_\r\n",
        "c=regressor.intercept_\r\n",
        "r_line=m*X+c\r\n",
        "\r\n",
        "plt.scatter(X, Y)\r\n",
        "plt.plot(X, r_line);\r\n",
        "plt.title('Hours vs Score')  \r\n",
        "plt.xlabel('No. of Hours Studied')  \r\n",
        "plt.ylabel('Score Percentage')\r\n",
        "plt.show()"
      ],
      "execution_count": null,
      "outputs": [
        {
          "output_type": "display_data",
          "data": {
            "image/png": "[encoded data removed]",
            "text/plain": [
              "<Figure size 432x288 with 1 Axes>"
            ]
          },
          "metadata": {
            "tags": [],
            "needs_background": "light"
          }
        }
      ]
    },
    {
      "cell_type": "code",
      "metadata": {
        "colab": {
          "base_uri": "https://localhost:8080/"
        },
        "id": "jpcYPcMG26nj",
        "outputId": "92d882ba-c3e3-468c-e340-794738952140"
      },
      "source": [
        "#calculating R^2\r\n",
        "r_sq = regressor.score(X, Y)\r\n",
        "print('coefficient of determination:', r_sq)"
      ],
      "execution_count": null,
      "outputs": [
        {
          "output_type": "stream",
          "text": [
            "coefficient of determination: 0.9525462098246908\n"
          ],
          "name": "stdout"
        }
      ]
    },
    {
      "cell_type": "code",
      "metadata": {
        "colab": {
          "base_uri": "https://localhost:8080/",
          "height": 372
        },
        "id": "1iC6wwBJ3Yfi",
        "outputId": "d7a3f407-09bd-488e-e421-3f1ff52ed2e2"
      },
      "source": [
        "#predicting data\r\n",
        "print(X_test)\r\n",
        "Y_pred = regressor.predict(X_test)\r\n",
        "\r\n",
        "#Actual vs Predicted\r\n",
        "d = pd.DataFrame({'Actual': Y_test, 'Predicted': Y_pred})  \r\n",
        "d"
      ],
      "execution_count": null,
      "outputs": [
        {
          "output_type": "stream",
          "text": [
            "[[1.5]\n",
            " [3.2]\n",
            " [7.4]\n",
            " [2.5]\n",
            " [5.9]\n",
            " [3.8]\n",
            " [1.9]]\n"
          ],
          "name": "stdout"
        },
        {
          "output_type": "execute_result",
          "data": {
            "text/html": [
              "<div>\n",
              "<style scoped>\n",
              "    .dataframe tbody tr th:only-of-type {\n",
              "        vertical-align: middle;\n",
              "    }\n",
              "\n",
              "    .dataframe tbody tr th {\n",
              "        vertical-align: top;\n",
              "    }\n",
              "\n",
              "    .dataframe thead th {\n",
              "        text-align: right;\n",
              "    }\n",
              "</style>\n",
              "<table border=\"1\" class=\"dataframe\">\n",
              "  <thead>\n",
              "    <tr style=\"text-align: right;\">\n",
              "      <th></th>\n",
              "      <th>Actual</th>\n",
              "      <th>Predicted</th>\n",
              "    </tr>\n",
              "  </thead>\n",
              "  <tbody>\n",
              "    <tr>\n",
              "      <th>0</th>\n",
              "      <td>20</td>\n",
              "      <td>16.844722</td>\n",
              "    </tr>\n",
              "    <tr>\n",
              "      <th>1</th>\n",
              "      <td>27</td>\n",
              "      <td>33.745575</td>\n",
              "    </tr>\n",
              "    <tr>\n",
              "      <th>2</th>\n",
              "      <td>69</td>\n",
              "      <td>75.500624</td>\n",
              "    </tr>\n",
              "    <tr>\n",
              "      <th>3</th>\n",
              "      <td>30</td>\n",
              "      <td>26.786400</td>\n",
              "    </tr>\n",
              "    <tr>\n",
              "      <th>4</th>\n",
              "      <td>62</td>\n",
              "      <td>60.588106</td>\n",
              "    </tr>\n",
              "    <tr>\n",
              "      <th>5</th>\n",
              "      <td>35</td>\n",
              "      <td>39.710582</td>\n",
              "    </tr>\n",
              "    <tr>\n",
              "      <th>6</th>\n",
              "      <td>24</td>\n",
              "      <td>20.821393</td>\n",
              "    </tr>\n",
              "  </tbody>\n",
              "</table>\n",
              "</div>"
            ],
            "text/plain": [
              "   Actual  Predicted\n",
              "0      20  16.844722\n",
              "1      27  33.745575\n",
              "2      69  75.500624\n",
              "3      30  26.786400\n",
              "4      62  60.588106\n",
              "5      35  39.710582\n",
              "6      24  20.821393"
            ]
          },
          "metadata": {
            "tags": []
          },
          "execution_count": 16
        }
      ]
    },
    {
      "cell_type": "code",
      "metadata": {
        "colab": {
          "base_uri": "https://localhost:8080/"
        },
        "id": "Hpl9zlXe36wd",
        "outputId": "6355c655-ce20-409d-cb2c-07b1438eac03"
      },
      "source": [
        "#What will be predicted score if a student studies for 9.25 hrs/ day?\r\n",
        "h = [[9.25]]\r\n",
        "s_pred = regressor.predict(h)\r\n",
        "print(f\"No of Hours = {h[0][0]}\")\r\n",
        "print(f\"Predicted Score = {s_pred[0]}\")"
      ],
      "execution_count": null,
      "outputs": [
        {
          "output_type": "stream",
          "text": [
            "No of Hours = 9.25\n",
            "Predicted Score = 93.89272889341652\n"
          ],
          "name": "stdout"
        }
      ]
    },
    {
      "cell_type": "code",
      "metadata": {
        "colab": {
          "base_uri": "https://localhost:8080/"
        },
        "id": "n6jxA8A0JMKU",
        "outputId": "4d1f0fa3-10a0-4c77-cfb5-cde0a6d6f901"
      },
      "source": [
        "from sklearn.metrics import root_mean_squared_error\r\n",
        "\r\n",
        "print('Model mean square error: {}'. format(mean_squared_error(Y_test, Y_pred)))"
      ],
      "execution_count": null,
      "outputs": [
        {
          "output_type": "stream",
          "text": [
            "Model mean square error: 20.33292367497996\n"
          ],
          "name": "stdout"
        }
      ]
    }
  ]
}